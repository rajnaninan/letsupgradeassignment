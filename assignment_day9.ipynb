{
  "nbformat": 4,
  "nbformat_minor": 0,
  "metadata": {
    "colab": {
      "name": "assignment_day9.ipynb",
      "provenance": [],
      "authorship_tag": "ABX9TyM3IydW3mpW6xkGROijOhQ5",
      "include_colab_link": true
    },
    "kernelspec": {
      "name": "python3",
      "display_name": "Python 3"
    }
  },
  "cells": [
    {
      "cell_type": "markdown",
      "metadata": {
        "id": "view-in-github",
        "colab_type": "text"
      },
      "source": [
        "<a href=\"https://colab.research.google.com/github/rajnaninan/letsupgradeassignment/blob/master/assignment_day9.ipynb\" target=\"_parent\"><img src=\"https://colab.research.google.com/assets/colab-badge.svg\" alt=\"Open In Colab\"/></a>"
      ]
    },
    {
      "cell_type": "code",
      "metadata": {
        "id": "FTjFl9-H3oP6",
        "colab_type": "code",
        "colab": {}
      },
      "source": [
        "pip install pylint\n",
        "\n",
        "1.Unit testing\n",
        "\n",
        "# Commented out IPython magic to ensure Python compatibility.\n",
        "# %%writefile primenum.py\n",
        "# def prime(n):\n",
        "#     if n==1:\n",
        "#         return False\n",
        "#     elif n==2:\n",
        "#         return True\n",
        "#     else:\n",
        "#         for i in range(2,n):\n",
        "#             if n % i==0:\n",
        "#                 return False\n",
        "#         return True             \n",
        "# A=87\n",
        "# prime(A)\n",
        "\n",
        "!pylint \"primenum.py\""
      ],
      "execution_count": null,
      "outputs": []
    },
    {
      "cell_type": "code",
      "metadata": {
        "id": "t5dghv7o3y-Q",
        "colab_type": "code",
        "colab": {}
      },
      "source": [
        "\"\"\"2.Armstrong\"\"\"\n",
        "\n",
        "start=input()\n",
        "if start=='x':\n",
        "  exit()\n",
        "else:\n",
        "  stop=input()\n",
        "  l=int(start)\n",
        "  u=int(stop) \n",
        "  for i in range(l,u+1):\n",
        "     sum1=0\n",
        "     num=i\n",
        "     while num!=0:\n",
        "       dig=num%10\n",
        "       sum1+=dig**3\n",
        "       num//=10\n",
        "     if i==sum1:\n",
        "       print(i)"
      ],
      "execution_count": null,
      "outputs": []
    }
  ]
}