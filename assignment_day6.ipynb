{
  "nbformat": 4,
  "nbformat_minor": 0,
  "metadata": {
    "colab": {
      "name": "assignment_day6.ipynb",
      "provenance": [],
      "authorship_tag": "ABX9TyP+4HVVJ1ofmvnPOUYhb6IX",
      "include_colab_link": true
    },
    "kernelspec": {
      "name": "python3",
      "display_name": "Python 3"
    }
  },
  "cells": [
    {
      "cell_type": "markdown",
      "metadata": {
        "id": "view-in-github",
        "colab_type": "text"
      },
      "source": [
        "<a href=\"https://colab.research.google.com/github/rajnaninan/letsupgradeassignment/blob/master/assignment_day6.ipynb\" target=\"_parent\"><img src=\"https://colab.research.google.com/assets/colab-badge.svg\" alt=\"Open In Colab\"/></a>"
      ]
    },
    {
      "cell_type": "code",
      "metadata": {
        "id": "YBE2yEYr3L4c",
        "colab_type": "code",
        "colab": {}
      },
      "source": [
        "class BankAcc: \n",
        "    def __init__(self): \n",
        "        self.balance=0\n",
        "        print(\"Hello!!! Welcome to Onepress Banking\") \n",
        "    def depo(self): \n",
        "        amount=float(input(\"Enter amount to be Deposited: \")) \n",
        "        self.balance += amount \n",
        "        print(\"\\n Amount Deposited:\",amount) \n",
        "    def withdraw(self): \n",
        "        amount = float(input(\"Enter amount to be Withdrawn: \")) \n",
        "        if self.balance>=amount: \n",
        "            self.balance-=amount \n",
        "            print(\"\\n You Withdrew:\", amount) \n",
        "        else: \n",
        "            print(\"\\n Insufficient balance  \") \n",
        "    def display(self): \n",
        "        print(\"\\n Available Balance=\",self.balance) \n",
        "s = BankAcc()  \n",
        "s.depo() \n",
        "s.withdraw() \n",
        "s.display()"
      ],
      "execution_count": null,
      "outputs": []
    },
    {
      "cell_type": "code",
      "metadata": {
        "id": "_ilbpypq3THV",
        "colab_type": "code",
        "colab": {}
      },
      "source": [
        "\"\"\"2.Cone\"\"\"\n",
        "\n",
        "import math\n",
        "from math import pi\n",
        "class cone:\n",
        "  def _init_(self,r,h,s):\n",
        "    self.r=radius\n",
        "    self.h=height\n",
        "    self.s=slantheught\n",
        "#volume of cone  \n",
        "  def volume(r, h): \n",
        "    v=(1/3) * (pi * r * r * h)\n",
        "    return v   \n",
        "# Surface Area of Cone \n",
        "  def surfacearea(r, s): \n",
        "    a=(pi * r * s) + (pi * r * r )\n",
        "    return a\n",
        "r=float(5)\n",
        "h=float(21)\n",
        "s=float(31)\n",
        "print(\"\\n \",round(volume(r,h),2))\n",
        "print(\"\\n\",round(surfacearea(r,s),2))"
      ],
      "execution_count": null,
      "outputs": []
    }
  ]
}