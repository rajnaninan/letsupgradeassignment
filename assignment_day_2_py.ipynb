{
  "nbformat": 4,
  "nbformat_minor": 0,
  "metadata": {
    "colab": {
      "name": "assignment day 2.py",
      "provenance": [],
      "collapsed_sections": [],
      "authorship_tag": "ABX9TyOtALCFmh3bVpwqJl0tBbf0",
      "include_colab_link": true
    },
    "kernelspec": {
      "name": "python3",
      "display_name": "Python 3"
    }
  },
  "cells": [
    {
      "cell_type": "markdown",
      "metadata": {
        "id": "view-in-github",
        "colab_type": "text"
      },
      "source": [
        "<a href=\"https://colab.research.google.com/github/rajnaninan/letsupgradeassignment/blob/master/assignment_day_2_py.ipynb\" target=\"_parent\"><img src=\"https://colab.research.google.com/assets/colab-badge.svg\" alt=\"Open In Colab\"/></a>"
      ]
    },
    {
      "cell_type": "code",
      "metadata": {
        "id": "MSImQ5Gux9jK",
        "colab_type": "code",
        "colab": {
          "base_uri": "https://localhost:8080/",
          "height": 34
        },
        "outputId": "6359d9a6-7c21-43aa-b9ef-54a6cc30b952"
      },
      "source": [
        "a=[1,5,7.5,'me','i',]\n",
        "len(a)"
      ],
      "execution_count": null,
      "outputs": [
        {
          "output_type": "execute_result",
          "data": {
            "text/plain": [
              "5"
            ]
          },
          "metadata": {
            "tags": []
          },
          "execution_count": 4
        }
      ]
    },
    {
      "cell_type": "code",
      "metadata": {
        "id": "tj88RLipyIH2",
        "colab_type": "code",
        "colab": {
          "base_uri": "https://localhost:8080/",
          "height": 34
        },
        "outputId": "45c96fce-c8a1-40f0-9d93-667fa87e013f"
      },
      "source": [
        "a.append('ll')\n",
        "a\n",
        "\n"
      ],
      "execution_count": null,
      "outputs": [
        {
          "output_type": "execute_result",
          "data": {
            "text/plain": [
              "[1, 5, 7.5, 'me', 'i', 'll']"
            ]
          },
          "metadata": {
            "tags": []
          },
          "execution_count": 5
        }
      ]
    },
    {
      "cell_type": "code",
      "metadata": {
        "id": "64dhVMHAyTPe",
        "colab_type": "code",
        "colab": {}
      },
      "source": [
        "a.remove('me')\n",
        "a\n",
        "\n"
      ],
      "execution_count": null,
      "outputs": []
    },
    {
      "cell_type": "code",
      "metadata": {
        "id": "5CeL56oOya4s",
        "colab_type": "code",
        "colab": {
          "base_uri": "https://localhost:8080/",
          "height": 34
        },
        "outputId": "07de4f93-f1a5-4171-c022-491b663a1901"
      },
      "source": [
        "a.index('ll')\n",
        "\n"
      ],
      "execution_count": null,
      "outputs": [
        {
          "output_type": "execute_result",
          "data": {
            "text/plain": [
              "5"
            ]
          },
          "metadata": {
            "tags": []
          },
          "execution_count": 6
        }
      ]
    },
    {
      "cell_type": "code",
      "metadata": {
        "id": "bxqAq7ybyfE6",
        "colab_type": "code",
        "colab": {}
      },
      "source": [
        "a.pop()\n",
        "a\n",
        "\n"
      ],
      "execution_count": null,
      "outputs": []
    },
    {
      "cell_type": "code",
      "metadata": {
        "id": "p8cK_IbRyj43",
        "colab_type": "code",
        "colab": {}
      },
      "source": [
        "\"\"\"**2.Tuples**\"\"\"\n",
        "\n",
        "c=('me',7,8.5)\n",
        "c.index(7)\n",
        "\n"
      ],
      "execution_count": null,
      "outputs": []
    },
    {
      "cell_type": "code",
      "metadata": {
        "id": "91XvmqveyoSg",
        "colab_type": "code",
        "colab": {}
      },
      "source": [
        "len(c)\n",
        "\n"
      ],
      "execution_count": null,
      "outputs": []
    },
    {
      "cell_type": "code",
      "metadata": {
        "id": "YWoOkJjOyrvy",
        "colab_type": "code",
        "colab": {}
      },
      "source": [
        "d=list(c)\n",
        "d\n",
        "\n"
      ],
      "execution_count": null,
      "outputs": []
    },
    {
      "cell_type": "code",
      "metadata": {
        "id": "VMWbvJmByvNJ",
        "colab_type": "code",
        "colab": {}
      },
      "source": [
        "type(c)\n",
        "\n"
      ],
      "execution_count": null,
      "outputs": []
    },
    {
      "cell_type": "code",
      "metadata": {
        "id": "jrG3mauiyxhN",
        "colab_type": "code",
        "colab": {}
      },
      "source": [
        "e=tuple(d)\n",
        "f=c+e\n",
        "del(e)\n",
        "e\n",
        "\n"
      ],
      "execution_count": null,
      "outputs": []
    },
    {
      "cell_type": "code",
      "metadata": {
        "id": "Z4vwdZvxy0Ck",
        "colab_type": "code",
        "colab": {}
      },
      "source": [
        "\"\"\"#3.Dictionaries\"\"\"\n",
        "\n",
        "a={\"name\":\"me\",\"num\":2,\"floa\":2.5}\n",
        "a.keys()\n",
        "\n"
      ],
      "execution_count": null,
      "outputs": []
    },
    {
      "cell_type": "code",
      "metadata": {
        "id": "8f0dPUh3y2eT",
        "colab_type": "code",
        "colab": {}
      },
      "source": [
        "a.values()\n",
        "\n"
      ],
      "execution_count": null,
      "outputs": []
    },
    {
      "cell_type": "code",
      "metadata": {
        "id": "q0jMzzyAy5Ib",
        "colab_type": "code",
        "colab": {}
      },
      "source": [
        "a.copy()\n",
        "\n"
      ],
      "execution_count": null,
      "outputs": []
    },
    {
      "cell_type": "code",
      "metadata": {
        "id": "sNGD8o-fy8LD",
        "colab_type": "code",
        "colab": {}
      },
      "source": [
        "a.pop(\"num\")\n",
        "a\n",
        "\n"
      ],
      "execution_count": null,
      "outputs": []
    },
    {
      "cell_type": "code",
      "metadata": {
        "id": "mbE0WRd0y-zT",
        "colab_type": "code",
        "colab": {}
      },
      "source": [
        "a.update({\"num\":2})\n",
        "a\n",
        "\n"
      ],
      "execution_count": null,
      "outputs": []
    },
    {
      "cell_type": "code",
      "metadata": {
        "id": "XlcfWm1hzA63",
        "colab_type": "code",
        "colab": {}
      },
      "source": [
        "\"\"\"#4.Set\"\"\"\n",
        "\n",
        "a={\"Fiat\",\"Benz\",\"BMW\"}\n",
        "b={\"Toyota\",\"Sumo\",\"Jaguar\"}\n",
        "c=a.union(b)\n",
        "c\n",
        "\n"
      ],
      "execution_count": null,
      "outputs": []
    },
    {
      "cell_type": "code",
      "metadata": {
        "id": "QwIkw3vQzDxO",
        "colab_type": "code",
        "colab": {}
      },
      "source": [
        "c.discard('Benz')\n",
        "c\n",
        "\n"
      ],
      "execution_count": null,
      "outputs": []
    },
    {
      "cell_type": "code",
      "metadata": {
        "id": "hJZYlOv7zGlR",
        "colab_type": "code",
        "colab": {}
      },
      "source": [
        "d=a.intersection(b)\n",
        "d\n",
        "\n"
      ],
      "execution_count": null,
      "outputs": []
    },
    {
      "cell_type": "code",
      "metadata": {
        "id": "xPLGKglPzIrV",
        "colab_type": "code",
        "colab": {}
      },
      "source": [
        "d=b.issubset(c)\n",
        "d\n",
        "\n"
      ],
      "execution_count": null,
      "outputs": []
    },
    {
      "cell_type": "code",
      "metadata": {
        "id": "aGw0gQPzzK5J",
        "colab_type": "code",
        "colab": {}
      },
      "source": [
        "b.pop()\n",
        "b\n",
        "\n"
      ],
      "execution_count": null,
      "outputs": []
    },
    {
      "cell_type": "code",
      "metadata": {
        "id": "BgjyTQ34zM3u",
        "colab_type": "code",
        "colab": {}
      },
      "source": [
        "\"\"\"#5.Strings\"\"\"\n",
        "\n",
        "a=\"Nithai\"\n",
        "len(a)\n",
        "\n"
      ],
      "execution_count": null,
      "outputs": []
    },
    {
      "cell_type": "code",
      "metadata": {
        "id": "CgdR_zyDzPHp",
        "colab_type": "code",
        "colab": {}
      },
      "source": [
        "a.upper()\n",
        "a.lower()\n",
        "\n"
      ],
      "execution_count": null,
      "outputs": []
    },
    {
      "cell_type": "code",
      "metadata": {
        "id": "2deEV3dazUIJ",
        "colab_type": "code",
        "colab": {}
      },
      "source": [
        "a.replace(\"i\",\"y\")\n",
        "\n"
      ],
      "execution_count": null,
      "outputs": []
    },
    {
      "cell_type": "code",
      "metadata": {
        "id": "3JaOR5uDzWal",
        "colab_type": "code",
        "colab": {}
      },
      "source": [
        "my=70\n",
        "i=\"my percentage is {}\"\n",
        "i.format(my)\n",
        "\n"
      ],
      "execution_count": null,
      "outputs": []
    },
    {
      "cell_type": "code",
      "metadata": {
        "id": "A-dYwWsVzYmj",
        "colab_type": "code",
        "colab": {}
      },
      "source": [
        "b=\"Hello World\"\n",
        "b.split()"
      ],
      "execution_count": null,
      "outputs": []
    }
  ]
}