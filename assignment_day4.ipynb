{
  "nbformat": 4,
  "nbformat_minor": 0,
  "metadata": {
    "colab": {
      "name": "assignment_day4.ipynb",
      "provenance": [],
      "authorship_tag": "ABX9TyOWdalHEJxVZLC9bNfEX8Y1",
      "include_colab_link": true
    },
    "kernelspec": {
      "name": "python3",
      "display_name": "Python 3"
    }
  },
  "cells": [
    {
      "cell_type": "markdown",
      "metadata": {
        "id": "view-in-github",
        "colab_type": "text"
      },
      "source": [
        "<a href=\"https://colab.research.google.com/github/rajnaninan/letsupgradeassignment/blob/master/assignment_day4.ipynb\" target=\"_parent\"><img src=\"https://colab.research.google.com/assets/colab-badge.svg\" alt=\"Open In Colab\"/></a>"
      ]
    },
    {
      "cell_type": "code",
      "metadata": {
        "id": "hvQMAiyh0HXE",
        "colab_type": "code",
        "colab": {}
      },
      "source": [
        "for i in range(1042000,702648265):  \n",
        "   sum1 = 0  \n",
        "   temp = i  \n",
        "   while temp > 0:  \n",
        "       digit = temp % 10  \n",
        "       sum1 += digit ** 3\n",
        "       temp //= 10  \n",
        "   if i== sum1:  \n",
        "     print(i)  \n",
        "     break"
      ],
      "execution_count": null,
      "outputs": []
    }
  ]
}