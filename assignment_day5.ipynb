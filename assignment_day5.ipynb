{
  "nbformat": 4,
  "nbformat_minor": 0,
  "metadata": {
    "colab": {
      "name": "assignment_day5.ipynb",
      "provenance": [],
      "authorship_tag": "ABX9TyMla5zqh9xPBNolA1fwP2G9",
      "include_colab_link": true
    },
    "kernelspec": {
      "name": "python3",
      "display_name": "Python 3"
    }
  },
  "cells": [
    {
      "cell_type": "markdown",
      "metadata": {
        "id": "view-in-github",
        "colab_type": "text"
      },
      "source": [
        "<a href=\"https://colab.research.google.com/github/rajnaninan/letsupgradeassignment/blob/master/assignment_day5.ipynb\" target=\"_parent\"><img src=\"https://colab.research.google.com/assets/colab-badge.svg\" alt=\"Open In Colab\"/></a>"
      ]
    },
    {
      "cell_type": "code",
      "metadata": {
        "id": "AsflrXv71T_9",
        "colab_type": "code",
        "colab": {}
      },
      "source": [
        "list1=[1,5,6,4,12,3,5]\n",
        "sublist=[1,1,5]\n",
        "flag=0\n",
        "if (all (x in list1 for x in sublist)): \n",
        "    flag = 1\n",
        "if (flag):\n",
        "  print(\"it's match\")\n",
        "else:\n",
        "  print(\"it's gone\")"
      ],
      "execution_count": null,
      "outputs": []
    },
    {
      "cell_type": "code",
      "metadata": {
        "id": "y7xpaz3V1l6p",
        "colab_type": "code",
        "colab": {}
      },
      "source": [
        "\"\"\"2.Filter\"\"\"\n",
        "\n",
        "def prime(num):\n",
        "  for i in range(2,num):\n",
        "    if num%i==0:\n",
        "      return False\n",
        "    else:\n",
        "      return True   \n",
        "a=list (filter (prime,range (2500)))\n",
        "print(a)\n"
      ],
      "execution_count": null,
      "outputs": []
    },
    {
      "cell_type": "code",
      "metadata": {
        "id": "qDP5bxw-1qmZ",
        "colab_type": "code",
        "colab": {}
      },
      "source": [
        "\"\"\"3.Lambda\"\"\"\n",
        "\n",
        "me = [\"bmw\",\"ducati\",\"audi\"]\n",
        "l=list (map(lambda i :i.capitalize(),me))\n",
        "print(l)"
      ],
      "execution_count": null,
      "outputs": []
    }
  ]
}