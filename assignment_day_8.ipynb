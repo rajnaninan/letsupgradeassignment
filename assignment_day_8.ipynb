{
  "nbformat": 4,
  "nbformat_minor": 0,
  "metadata": {
    "colab": {
      "name": "assignment_day_8.ipynb",
      "provenance": [],
      "authorship_tag": "ABX9TyP8xCrLp03rRJwVwMBfB7kJ",
      "include_colab_link": true
    },
    "kernelspec": {
      "name": "python3",
      "display_name": "Python 3"
    }
  },
  "cells": [
    {
      "cell_type": "markdown",
      "metadata": {
        "id": "view-in-github",
        "colab_type": "text"
      },
      "source": [
        "<a href=\"https://colab.research.google.com/github/rajnaninan/letsupgradeassignment/blob/master/assignment_day_8.ipynb\" target=\"_parent\"><img src=\"https://colab.research.google.com/assets/colab-badge.svg\" alt=\"Open In Colab\"/></a>"
      ]
    },
    {
      "cell_type": "code",
      "metadata": {
        "id": "ITflStCw2M2i",
        "colab_type": "code",
        "colab": {}
      },
      "source": [
        "f=open (\"myfile.txt\",\"w\")\n",
        "f.write(\"Hello all this is me\")\n",
        "f.close()"
      ],
      "execution_count": null,
      "outputs": []
    },
    {
      "cell_type": "code",
      "metadata": {
        "id": "MEiImZqy2UVp",
        "colab_type": "code",
        "colab": {}
      },
      "source": [
        "try :\n",
        "    file = open(\"myfile.txt\",\"r\")\n",
        "    file.write(\"Hello\")\n",
        "    file.close()\n",
        "    print(\"pass\")"
      ],
      "execution_count": null,
      "outputs": []
    },
    {
      "cell_type": "code",
      "metadata": {
        "id": "DfL9ohSe2eSj",
        "colab_type": "code",
        "colab": {}
      },
      "source": [
        "except Exception as m:\n",
        "    print(m)"
      ],
      "execution_count": null,
      "outputs": []
    },
    {
      "cell_type": "code",
      "metadata": {
        "id": "q2r0ymLc2ibl",
        "colab_type": "code",
        "colab": {}
      },
      "source": [
        "finally:\n",
        "    print(\"whatever is it i can execute\")"
      ],
      "execution_count": null,
      "outputs": []
    },
    {
      "cell_type": "code",
      "metadata": {
        "id": "RFMD7pIW2lAL",
        "colab_type": "code",
        "colab": {}
      },
      "source": [
        "\"\"\"2.Fibonacci\"\"\"\n",
        "\n",
        "def fibDeco(man):\n",
        "    def myFun():\n",
        "        num = int(input(\"Enter any Number - \"))\n",
        "        man(num)\n",
        "    return myFun"
      ],
      "execution_count": null,
      "outputs": []
    },
    {
      "cell_type": "code",
      "metadata": {
        "id": "2HqJHU_12oGn",
        "colab_type": "code",
        "colab": {}
      },
      "source": [
        "@fibDeco\n",
        "def fib(n):\n",
        "    old_num = 0\n",
        "    a = 1\n",
        "    print('1')"
      ],
      "execution_count": null,
      "outputs": []
    },
    {
      "cell_type": "code",
      "metadata": {
        "id": "43bm5m1V2sGT",
        "colab_type": "code",
        "colab": {}
      },
      "source": [
        "for i in range(0,n):\n",
        "        new_num = a+old_num\n",
        "        old_num = a\n",
        "        a = new_num\n",
        "        print(new_num)\n",
        "\n",
        "fib()"
      ],
      "execution_count": null,
      "outputs": []
    }
  ]
}